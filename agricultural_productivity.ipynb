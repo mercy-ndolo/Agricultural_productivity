{
 "cells": [
  {
   "cell_type": "code",
   "execution_count": 12,
   "id": "254662b4-6c2d-4ec4-8af8-90df977ea173",
   "metadata": {
    "tags": []
   },
   "outputs": [],
   "source": [
    "import pandas as pd\n",
    "import seaborn as sns\n",
    "import numpy as np\n",
    "import matplotlib.pyplot as plt\n",
    "import matplotlib.axes as ax\n",
    "from matplotlib.animation import FuncAnimation"
   ]
  },
  {
   "cell_type": "code",
   "execution_count": 13,
   "id": "175ecae8-00f4-4ef1-8cad-c58167bbab89",
   "metadata": {},
   "outputs": [
    {
     "data": {
      "text/html": [
       "<div>\n",
       "<style scoped>\n",
       "    .dataframe tbody tr th:only-of-type {\n",
       "        vertical-align: middle;\n",
       "    }\n",
       "\n",
       "    .dataframe tbody tr th {\n",
       "        vertical-align: top;\n",
       "    }\n",
       "\n",
       "    .dataframe thead th {\n",
       "        text-align: right;\n",
       "    }\n",
       "</style>\n",
       "<table border=\"1\" class=\"dataframe\">\n",
       "  <thead>\n",
       "    <tr style=\"text-align: right;\">\n",
       "      <th></th>\n",
       "      <th>Country</th>\n",
       "      <th>Yield (hg/ha)</th>\n",
       "      <th>Area harvested (ha)</th>\n",
       "    </tr>\n",
       "  </thead>\n",
       "  <tbody>\n",
       "    <tr>\n",
       "      <th>0</th>\n",
       "      <td>Afghanistan</td>\n",
       "      <td>808952</td>\n",
       "      <td>167842553</td>\n",
       "    </tr>\n",
       "    <tr>\n",
       "      <th>1</th>\n",
       "      <td>Africa</td>\n",
       "      <td>692014</td>\n",
       "      <td>4829674858</td>\n",
       "    </tr>\n",
       "    <tr>\n",
       "      <th>2</th>\n",
       "      <td>Albania</td>\n",
       "      <td>1651049</td>\n",
       "      <td>14972582</td>\n",
       "    </tr>\n",
       "    <tr>\n",
       "      <th>3</th>\n",
       "      <td>Algeria</td>\n",
       "      <td>534659</td>\n",
       "      <td>158067578</td>\n",
       "    </tr>\n",
       "    <tr>\n",
       "      <th>4</th>\n",
       "      <td>Americas</td>\n",
       "      <td>2135761</td>\n",
       "      <td>7502921817</td>\n",
       "    </tr>\n",
       "    <tr>\n",
       "      <th>...</th>\n",
       "      <td>...</td>\n",
       "      <td>...</td>\n",
       "      <td>...</td>\n",
       "    </tr>\n",
       "    <tr>\n",
       "      <th>197</th>\n",
       "      <td>Western Sahara</td>\n",
       "      <td>351565</td>\n",
       "      <td>134081</td>\n",
       "    </tr>\n",
       "    <tr>\n",
       "      <th>198</th>\n",
       "      <td>Yemen</td>\n",
       "      <td>513295</td>\n",
       "      <td>51091423</td>\n",
       "    </tr>\n",
       "    <tr>\n",
       "      <th>199</th>\n",
       "      <td>Yugoslavia</td>\n",
       "      <td>975715</td>\n",
       "      <td>145951898</td>\n",
       "    </tr>\n",
       "    <tr>\n",
       "      <th>200</th>\n",
       "      <td>Zambia</td>\n",
       "      <td>929366</td>\n",
       "      <td>53467933</td>\n",
       "    </tr>\n",
       "    <tr>\n",
       "      <th>201</th>\n",
       "      <td>Zimbabwe</td>\n",
       "      <td>597001</td>\n",
       "      <td>98684973</td>\n",
       "    </tr>\n",
       "  </tbody>\n",
       "</table>\n",
       "<p>202 rows × 3 columns</p>\n",
       "</div>"
      ],
      "text/plain": [
       "            Country  Yield (hg/ha)  Area harvested (ha)\n",
       "0       Afghanistan         808952            167842553\n",
       "1            Africa         692014           4829674858\n",
       "2           Albania        1651049             14972582\n",
       "3           Algeria         534659            158067578\n",
       "4          Americas        2135761           7502921817\n",
       "..              ...            ...                  ...\n",
       "197  Western Sahara         351565               134081\n",
       "198           Yemen         513295             51091423\n",
       "199      Yugoslavia         975715            145951898\n",
       "200          Zambia         929366             53467933\n",
       "201        Zimbabwe         597001             98684973\n",
       "\n",
       "[202 rows x 3 columns]"
      ]
     },
     "execution_count": 13,
     "metadata": {},
     "output_type": "execute_result"
    }
   ],
   "source": [
    "ds = pd.read_csv('CerealCropYield_1961-2018.csv')\n",
    "ds"
   ]
  },
  {
   "cell_type": "code",
   "execution_count": 15,
   "id": "a5f5ff25-33ae-4e60-ad54-b2d5447c3a14",
   "metadata": {},
   "outputs": [
    {
     "data": {
      "text/html": [
       "<div>\n",
       "<style scoped>\n",
       "    .dataframe tbody tr th:only-of-type {\n",
       "        vertical-align: middle;\n",
       "    }\n",
       "\n",
       "    .dataframe tbody tr th {\n",
       "        vertical-align: top;\n",
       "    }\n",
       "\n",
       "    .dataframe thead th {\n",
       "        text-align: right;\n",
       "    }\n",
       "</style>\n",
       "<table border=\"1\" class=\"dataframe\">\n",
       "  <thead>\n",
       "    <tr style=\"text-align: right;\">\n",
       "      <th></th>\n",
       "      <th>Country</th>\n",
       "      <th>Yield (hg/ha)</th>\n",
       "      <th>Area harvested (ha)</th>\n",
       "    </tr>\n",
       "  </thead>\n",
       "  <tbody>\n",
       "    <tr>\n",
       "      <th>0</th>\n",
       "      <td>Afghanistan</td>\n",
       "      <td>808952</td>\n",
       "      <td>167842553</td>\n",
       "    </tr>\n",
       "    <tr>\n",
       "      <th>1</th>\n",
       "      <td>Africa</td>\n",
       "      <td>692014</td>\n",
       "      <td>4829674858</td>\n",
       "    </tr>\n",
       "    <tr>\n",
       "      <th>2</th>\n",
       "      <td>Albania</td>\n",
       "      <td>1651049</td>\n",
       "      <td>14972582</td>\n",
       "    </tr>\n",
       "    <tr>\n",
       "      <th>3</th>\n",
       "      <td>Algeria</td>\n",
       "      <td>534659</td>\n",
       "      <td>158067578</td>\n",
       "    </tr>\n",
       "    <tr>\n",
       "      <th>4</th>\n",
       "      <td>Americas</td>\n",
       "      <td>2135761</td>\n",
       "      <td>7502921817</td>\n",
       "    </tr>\n",
       "    <tr>\n",
       "      <th>...</th>\n",
       "      <td>...</td>\n",
       "      <td>...</td>\n",
       "      <td>...</td>\n",
       "    </tr>\n",
       "    <tr>\n",
       "      <th>197</th>\n",
       "      <td>Western Sahara</td>\n",
       "      <td>351565</td>\n",
       "      <td>134081</td>\n",
       "    </tr>\n",
       "    <tr>\n",
       "      <th>198</th>\n",
       "      <td>Yemen</td>\n",
       "      <td>513295</td>\n",
       "      <td>51091423</td>\n",
       "    </tr>\n",
       "    <tr>\n",
       "      <th>199</th>\n",
       "      <td>Yugoslavia</td>\n",
       "      <td>975715</td>\n",
       "      <td>145951898</td>\n",
       "    </tr>\n",
       "    <tr>\n",
       "      <th>200</th>\n",
       "      <td>Zambia</td>\n",
       "      <td>929366</td>\n",
       "      <td>53467933</td>\n",
       "    </tr>\n",
       "    <tr>\n",
       "      <th>201</th>\n",
       "      <td>Zimbabwe</td>\n",
       "      <td>597001</td>\n",
       "      <td>98684973</td>\n",
       "    </tr>\n",
       "  </tbody>\n",
       "</table>\n",
       "<p>202 rows × 3 columns</p>\n",
       "</div>"
      ],
      "text/plain": [
       "            Country  Yield (hg/ha)  Area harvested (ha)\n",
       "0       Afghanistan         808952            167842553\n",
       "1            Africa         692014           4829674858\n",
       "2           Albania        1651049             14972582\n",
       "3           Algeria         534659            158067578\n",
       "4          Americas        2135761           7502921817\n",
       "..              ...            ...                  ...\n",
       "197  Western Sahara         351565               134081\n",
       "198           Yemen         513295             51091423\n",
       "199      Yugoslavia         975715            145951898\n",
       "200          Zambia         929366             53467933\n",
       "201        Zimbabwe         597001             98684973\n",
       "\n",
       "[202 rows x 3 columns]"
      ]
     },
     "execution_count": 15,
     "metadata": {},
     "output_type": "execute_result"
    }
   ],
   "source": [
    "ds = ds.dropna()\n",
    "ds"
   ]
  },
  {
   "cell_type": "code",
   "execution_count": 23,
   "id": "c95e00fa-196a-4454-8788-851bf205e31a",
   "metadata": {
    "tags": []
   },
   "outputs": [],
   "source": [
    "ds =ds[['Area harvested (ha)','Yield (hg/ha)']]\n",
    "ds\n",
    "\n",
    "x= ds['Area harvested (ha)']\n",
    "y= ds['Yield (hg/ha)']"
   ]
  },
  {
   "cell_type": "code",
   "execution_count": 24,
   "id": "50d47972-5330-4e42-aa99-42f9c1c8c889",
   "metadata": {
    "tags": []
   },
   "outputs": [
    {
     "data": {
      "text/plain": [
       "Text(0, 0.5, 'yield')"
      ]
     },
     "execution_count": 24,
     "metadata": {},
     "output_type": "execute_result"
    },
    {
     "data": {
      "image/png": "[encoded data removed]",
      "text/plain": [
       "<Figure size 640x480 with 1 Axes>"
      ]
     },
     "metadata": {},
     "output_type": "display_data"
    }
   ],
   "source": [
    "plt.scatter(x,y)\n",
    "plt.xlabel(\"area of harvest\")\n",
    "plt.ylabel(\"yield\")"
   ]
  },
  {
   "cell_type": "code",
   "execution_count": 25,
   "id": "83352ce0-9807-4d43-96b0-b59ee0a8d883",
   "metadata": {
    "tags": []
   },
   "outputs": [
    {
     "data": {
      "text/plain": [
       "183     73858004\n",
       "8        4631043\n",
       "192     39455091\n",
       "194        71441\n",
       "3      158067578\n",
       "         ...    \n",
       "163        62518\n",
       "108     39634062\n",
       "7      625029147\n",
       "150    346254619\n",
       "87     142002040\n",
       "Name: Area harvested (ha), Length: 161, dtype: int64"
      ]
     },
     "execution_count": 25,
     "metadata": {},
     "output_type": "execute_result"
    }
   ],
   "source": [
    "from sklearn.model_selection import train_test_split\n",
    "X_train, X_test, y_train, y_test = train_test_split(x, y, test_size=0.2)\n",
    "X_train"
   ]
  },
  {
   "cell_type": "code",
   "execution_count": 47,
   "id": "8c062473-1b03-4264-ac0f-d5049d0c3cb8",
   "metadata": {
    "tags": []
   },
   "outputs": [
    {
     "data": {
      "text/plain": [
       "array([  73858004,    4631043,   39455091,      71441,  158067578,\n",
       "         24352458,  600632941,  796116139,  325443468,  479975499,\n",
       "        397890213,  160289457,  660513573,   15765731,   41420983,\n",
       "          5656800,     803128,       9256, 1047555096,  119404474,\n",
       "        218334898,       7833,   89315848,  568536987,    7277428,\n",
       "        101104503,  794202254,   70694918,        786,   24373812,\n",
       "           487194,        878,     132722,      10351,   32396143,\n",
       "         16130096,  190571733,  284478491,  268794646,    3194775,\n",
       "        171181920,   52343526,   19445291,   39894775,  158962771,\n",
       "         48628377,       9013,   84499045,   43250490,   53448623,\n",
       "           261605,  630579317,     112449,    4373698,  169680654,\n",
       "            49250,     205755,  368559139,    4232358,        675,\n",
       "        158870718,   86775898,   43365728,  145951898,     159067,\n",
       "         23675327,    5033178,   13397927,    2724154,    8524988,\n",
       "       3614603795,   47298686,   81512150,  408746127,    9580421,\n",
       "        883950651,      38522,     545679,  155142709,   43412506,\n",
       "         51492821,   45470608,   31113666,  346133416,   98684973,\n",
       "         92161170,  470453041,  201114487,   12294586,    7273460,\n",
       "             7653,   10291497,  139315196, 1169447240,  541484484,\n",
       "          3024633,   21901039,   64248923,   51091423,       1646,\n",
       "         71039682, 1085579858,  409680794,     841460,   23444594,\n",
       "         55202238,      21236,    3607941,   16692803,   14329271,\n",
       "         75054421,   21653603,      24583, 5799702042,    5207420,\n",
       "             6941,     967971, 3604990295, 7502921817,   97024315,\n",
       "       4829674858,     190658,      42069,   20610342,   65674599,\n",
       "        118807689,   31493558,      26198,    8472358,       3606,\n",
       "          8151014,   27610676,  377269634,   81531005, 5338709654,\n",
       "            43241,   74045516,     246609,   10594084,   14946028,\n",
       "          7481770,   36385599,  694641339,   41211000,      25747,\n",
       "          8310119,      20346,   14972582,   63447120,    1379750,\n",
       "          1046459,    1224185,  295898430,  362520318,  111855195,\n",
       "          6773877,      62518,   39634062,  625029147,  346254619,\n",
       "        142002040], dtype=int64)"
      ]
     },
     "execution_count": 47,
     "metadata": {},
     "output_type": "execute_result"
    }
   ],
   "source": [
    "X_train = np.array(X_train).reshape(-1,1)\n",
    "X_train.flatten()"
   ]
  },
  {
   "cell_type": "code",
   "execution_count": 46,
   "id": "7d764380-8fda-48e3-91f3-3b7a8b4d8138",
   "metadata": {
    "tags": []
   },
   "outputs": [
    {
     "data": {
      "text/plain": [
       "array([ 53467933,  14801816, 339665189,    134081,    110229,   6096588,\n",
       "        11796653,  64627105, 167842553,  67049262,  82130297,  10096093,\n",
       "        11897590, 404335674,   6434679,  29522444, 143509587,  10842718,\n",
       "        26524594,  65649553,  54680713,  24213958,  17564904,    139589,\n",
       "        73557625,   9157627,     94085,   6764812,  15429492,       234,\n",
       "        28732125,     19321, 757447587,  23789894,  36712128,  46107546,\n",
       "          707476,  20488243,   7744758,  10128273,  64620297], dtype=int64)"
      ]
     },
     "execution_count": 46,
     "metadata": {},
     "output_type": "execute_result"
    }
   ],
   "source": [
    " X_test = np.array(X_test).reshape(-1,1)\n",
    " X_test.flatten()"
   ]
  },
  {
   "cell_type": "code",
   "execution_count": 30,
   "id": "5e1c6691-f07f-46f6-8b16-ad647b58da14",
   "metadata": {
    "tags": []
   },
   "outputs": [],
   "source": [
    "from sklearn.linear_model import LinearRegression "
   ]
  },
  {
   "cell_type": "code",
   "execution_count": 32,
   "id": "852cdc2f-01c9-4302-8cb1-634b8743f87d",
   "metadata": {
    "tags": []
   },
   "outputs": [
    {
     "data": {
      "text/html": [
       "<style>#sk-container-id-2 {color: black;}#sk-container-id-2 pre{padding: 0;}#sk-container-id-2 div.sk-toggleable {background-color: white;}#sk-container-id-2 label.sk-toggleable__label {cursor: pointer;display: block;width: 100%;margin-bottom: 0;padding: 0.3em;box-sizing: border-box;text-align: center;}#sk-container-id-2 label.sk-toggleable__label-arrow:before {content: \"▸\";float: left;margin-right: 0.25em;color: #696969;}#sk-container-id-2 label.sk-toggleable__label-arrow:hover:before {color: black;}#sk-container-id-2 div.sk-estimator:hover label.sk-toggleable__label-arrow:before {color: black;}#sk-container-id-2 div.sk-toggleable__content {max-height: 0;max-width: 0;overflow: hidden;text-align: left;background-color: #f0f8ff;}#sk-container-id-2 div.sk-toggleable__content pre {margin: 0.2em;color: black;border-radius: 0.25em;background-color: #f0f8ff;}#sk-container-id-2 input.sk-toggleable__control:checked~div.sk-toggleable__content {max-height: 200px;max-width: 100%;overflow: auto;}#sk-container-id-2 input.sk-toggleable__control:checked~label.sk-toggleable__label-arrow:before {content: \"▾\";}#sk-container-id-2 div.sk-estimator input.sk-toggleable__control:checked~label.sk-toggleable__label {background-color: #d4ebff;}#sk-container-id-2 div.sk-label input.sk-toggleable__control:checked~label.sk-toggleable__label {background-color: #d4ebff;}#sk-container-id-2 input.sk-hidden--visually {border: 0;clip: rect(1px 1px 1px 1px);clip: rect(1px, 1px, 1px, 1px);height: 1px;margin: -1px;overflow: hidden;padding: 0;position: absolute;width: 1px;}#sk-container-id-2 div.sk-estimator {font-family: monospace;background-color: #f0f8ff;border: 1px dotted black;border-radius: 0.25em;box-sizing: border-box;margin-bottom: 0.5em;}#sk-container-id-2 div.sk-estimator:hover {background-color: #d4ebff;}#sk-container-id-2 div.sk-parallel-item::after {content: \"\";width: 100%;border-bottom: 1px solid gray;flex-grow: 1;}#sk-container-id-2 div.sk-label:hover label.sk-toggleable__label {background-color: #d4ebff;}#sk-container-id-2 div.sk-serial::before {content: \"\";position: absolute;border-left: 1px solid gray;box-sizing: border-box;top: 0;bottom: 0;left: 50%;z-index: 0;}#sk-container-id-2 div.sk-serial {display: flex;flex-direction: column;align-items: center;background-color: white;padding-right: 0.2em;padding-left: 0.2em;position: relative;}#sk-container-id-2 div.sk-item {position: relative;z-index: 1;}#sk-container-id-2 div.sk-parallel {display: flex;align-items: stretch;justify-content: center;background-color: white;position: relative;}#sk-container-id-2 div.sk-item::before, #sk-container-id-2 div.sk-parallel-item::before {content: \"\";position: absolute;border-left: 1px solid gray;box-sizing: border-box;top: 0;bottom: 0;left: 50%;z-index: -1;}#sk-container-id-2 div.sk-parallel-item {display: flex;flex-direction: column;z-index: 1;position: relative;background-color: white;}#sk-container-id-2 div.sk-parallel-item:first-child::after {align-self: flex-end;width: 50%;}#sk-container-id-2 div.sk-parallel-item:last-child::after {align-self: flex-start;width: 50%;}#sk-container-id-2 div.sk-parallel-item:only-child::after {width: 0;}#sk-container-id-2 div.sk-dashed-wrapped {border: 1px dashed gray;margin: 0 0.4em 0.5em 0.4em;box-sizing: border-box;padding-bottom: 0.4em;background-color: white;}#sk-container-id-2 div.sk-label label {font-family: monospace;font-weight: bold;display: inline-block;line-height: 1.2em;}#sk-container-id-2 div.sk-label-container {text-align: center;}#sk-container-id-2 div.sk-container {/* jupyter's `normalize.less` sets `[hidden] { display: none; }` but bootstrap.min.css set `[hidden] { display: none !important; }` so we also need the `!important` here to be able to override the default hidden behavior on the sphinx rendered scikit-learn.org. See: https://github.com/scikit-learn/scikit-learn/issues/21755 */display: inline-block !important;position: relative;}#sk-container-id-2 div.sk-text-repr-fallback {display: none;}</style><div id=\"sk-container-id-2\" class=\"sk-top-container\"><div class=\"sk-text-repr-fallback\"><pre>LinearRegression()</pre><b>In a Jupyter environment, please rerun this cell to show the HTML representation or trust the notebook. <br />On GitHub, the HTML representation is unable to render, please try loading this page with nbviewer.org.</b></div><div class=\"sk-container\" hidden><div class=\"sk-item\"><div class=\"sk-estimator sk-toggleable\"><input class=\"sk-toggleable__control sk-hidden--visually\" id=\"sk-estimator-id-2\" type=\"checkbox\" checked><label for=\"sk-estimator-id-2\" class=\"sk-toggleable__label sk-toggleable__label-arrow\">LinearRegression</label><div class=\"sk-toggleable__content\"><pre>LinearRegression()</pre></div></div></div></div></div>"
      ],
      "text/plain": [
       "LinearRegression()"
      ]
     },
     "execution_count": 32,
     "metadata": {},
     "output_type": "execute_result"
    }
   ],
   "source": [
    "lr = LinearRegression()\n",
    "lr.fit( X_train, y_train)"
   ]
  },
  {
   "cell_type": "code",
   "execution_count": 34,
   "id": "117668c6-6776-4cb4-995f-f14cce1f6a42",
   "metadata": {
    "tags": []
   },
   "outputs": [
    {
     "data": {
      "text/plain": [
       "1247065.205143597"
      ]
     },
     "execution_count": 34,
     "metadata": {},
     "output_type": "execute_result"
    }
   ],
   "source": [
    "c=lr.intercept_\n",
    "c"
   ]
  },
  {
   "cell_type": "code",
   "execution_count": 35,
   "id": "1c990a65-cfe1-4ff6-b1ae-103feffc23a3",
   "metadata": {
    "tags": []
   },
   "outputs": [
    {
     "data": {
      "text/plain": [
       "array([7.30046836e-05])"
      ]
     },
     "execution_count": 35,
     "metadata": {},
     "output_type": "execute_result"
    }
   ],
   "source": [
    "m= lr.coef_\n",
    "m"
   ]
  },
  {
   "cell_type": "code",
   "execution_count": 39,
   "id": "2df15b87-05fa-47be-94c9-69e605e0a934",
   "metadata": {
    "tags": []
   },
   "outputs": [
    {
     "data": {
      "text/plain": [
       "array([1252457.18535705, 1247403.29297256, 1249945.61157852,\n",
       "       1247070.4206712 , 1258604.87866314, 1248843.04863481,\n",
       "       1290914.22296192, 1305185.41198131, 1270824.1025551 ,\n",
       "       1282105.66458455, 1276113.05425178, 1258767.08623653,\n",
       "       1295285.78955494, 1248216.177347  , 1250089.13090197,\n",
       "       1247478.17803779, 1247123.83724913, 1247065.88087495,\n",
       "       1323541.63348218, 1255782.29098857, 1263004.67529125,\n",
       "       1247065.77698928, 1253585.68036743, 1288571.06799526,\n",
       "       1247596.49147217, 1254446.3073958 , 1305045.68941244,\n",
       "       1252226.26526442, 1247065.26252528, 1248844.60757682,\n",
       "       1247100.77258742, 1247065.26924171, 1247074.89447121,\n",
       "       1247065.96081508, 1249430.27531322, 1248242.77769854,\n",
       "       1260977.83421465, 1267833.46737047, 1266688.4732286 ,\n",
       "       1247298.43868165, 1259562.28705149, 1250886.52769781,\n",
       "       1248484.80246059, 1249977.71056982, 1258670.23194486,\n",
       "       1250615.30442053, 1247065.86313481, 1253234.03118845,\n",
       "       1250222.69348166, 1250967.20495465, 1247084.30353385,\n",
       "       1293100.44866681, 1247073.41444726, 1247384.50558226,\n",
       "       1259452.68760216, 1247068.80062426, 1247080.22622227,\n",
       "       1273971.74847472, 1247374.18710028, 1247065.25442176,\n",
       "       1258663.51164472, 1253400.25212132, 1250231.10639538,\n",
       "       1257720.37727812, 1247076.8177796 , 1248793.61490039,\n",
       "       1247432.650711  , 1248043.31656515, 1247264.08114445,\n",
       "       1247687.56919524, 1510948.21154223, 1250518.23074979,\n",
       "       1253015.97386402, 1276905.58681856, 1247764.62074747,\n",
       "       1311597.74273916, 1247068.01743002, 1247105.04226634,\n",
       "       1258391.34952722, 1250234.52140847, 1250824.42224845,\n",
       "       1250384.7724938 , 1249336.64848561, 1272334.56566257,\n",
       "       1254269.67037368, 1253793.40219979, 1281410.48055115,\n",
       "       1261747.5046347 , 1247962.76750454, 1247596.20178958,\n",
       "       1247065.76384844, 1247816.53262587, 1257235.86694845,\n",
       "       1332440.33088841, 1286596.10857312, 1247286.01751877,\n",
       "       1248664.08356634, 1251755.67743895, 1250795.11831446,\n",
       "       1247065.32530931, 1252251.43465116, 1326317.61920101,\n",
       "       1276973.82188716, 1247126.63566466, 1248776.77031073,\n",
       "       1251095.22706288, 1247066.75547106, 1247328.60173475,\n",
       "       1248283.85794503, 1248111.30903919, 1252544.52940159,\n",
       "       1248646.01957944, 1247066.99981773, 1670470.61770259,\n",
       "       1247445.37119308, 1247065.71186911, 1247135.87156019,\n",
       "       1510246.38101643, 1794813.63848023, 1254148.43456182,\n",
       "       1599654.09004985, 1247079.12407056, 1247068.27637763,\n",
       "       1248569.85664023, 1251859.75846425, 1255738.72288846,\n",
       "       1249364.38238087, 1247067.1177203 , 1247683.72695875,\n",
       "       1247065.46839849, 1247660.2673417 , 1249080.913809  ,\n",
       "       1274607.65540621, 1253017.35036733, 1636816.01427397,\n",
       "       1247068.36193912, 1252470.87461128, 1247083.20875562,\n",
       "       1247838.62289406, 1248156.33518884, 1247611.40939523,\n",
       "       1249721.52428624, 1297777.27631379, 1250073.8011595 ,\n",
       "       1247067.08479519, 1247671.88275188, 1247066.69049689,\n",
       "       1248158.2737552 , 1251697.14206462, 1247165.9333558 ,\n",
       "       1247141.60155179, 1247154.57638219, 1268667.17640392,\n",
       "       1273530.88625829, 1255231.15826375, 1247559.72989074,\n",
       "       1247069.76925041, 1249958.67729975, 1292695.26026203,\n",
       "       1272343.41404924, 1257432.01914456])"
      ]
     },
     "execution_count": 39,
     "metadata": {},
     "output_type": "execute_result"
    }
   ],
   "source": [
    "y_pred_train=m*X_train+c\n",
    "y_pred_train.flatten()"
   ]
  },
  {
   "cell_type": "code",
   "execution_count": 48,
   "id": "c8a94f16-3d71-4500-8d45-a8898cc477d6",
   "metadata": {
    "tags": []
   },
   "outputs": [
    {
     "data": {
      "text/plain": [
       "Text(0, 0.5, 'yield')"
      ]
     },
     "execution_count": 48,
     "metadata": {},
     "output_type": "execute_result"
    },
    {
     "data": {
      "image/png": "[encoded data removed]",
      "text/plain": [
       "<Figure size 640x480 with 1 Axes>"
      ]
     },
     "metadata": {},
     "output_type": "display_data"
    }
   ],
   "source": [
    "plt.scatter(X_train,y_train)\n",
    "plt.plot(X_train,y_pred_train,color='red')\n",
    "plt.title('Agricultural Productivity Analysis: Yield in Relation to Area Harvested')\n",
    "plt.xlabel(\"area of harvest\")\n",
    "plt.ylabel(\"yield\")"
   ]
  },
  {
   "cell_type": "code",
   "execution_count": 49,
   "id": "17d83a2a-de0a-476a-8312-7c06780c51db",
   "metadata": {
    "tags": []
   },
   "outputs": [
    {
     "data": {
      "text/plain": [
       "array([1250968.61467509, 1248145.8070374 , 1271862.35479697,\n",
       "       1247074.99368458, 1247073.25237687, 1247510.28462159,\n",
       "       1247926.41606342, 1251783.2864962 , 1259318.49762022,\n",
       "       1251960.11530162, 1253061.10149018, 1247802.26721867,\n",
       "       1247933.78493717, 1276583.60309275, 1247534.96684807,\n",
       "       1249220.48182696, 1257542.07713631, 1247856.77434057,\n",
       "       1249001.62473622, 1251857.92998894, 1251057.15329526,\n",
       "       1248832.93748613, 1248347.52540261, 1247075.39579438,\n",
       "       1252435.2562832 , 1247733.75480527, 1247072.07378925,\n",
       "       1247559.06810328, 1248191.63032519, 1247065.22222669,\n",
       "       1249162.78483842, 1247066.61566709, 1302362.42657723,\n",
       "       1248801.97882798, 1249745.36243257, 1250431.27195097,\n",
       "       1247116.85420513, 1248560.94284136, 1247630.60875096,\n",
       "       1247804.61650939, 1251782.78948031])"
      ]
     },
     "execution_count": 49,
     "metadata": {},
     "output_type": "execute_result"
    }
   ],
   "source": [
    "y_pred_test=lr.predict(X_test)\n",
    "y_pred_test.flatten()"
   ]
  },
  {
   "cell_type": "code",
   "execution_count": 50,
   "id": "b8e5639a-cce1-4d7e-8f43-82ff7f10f506",
   "metadata": {
    "tags": []
   },
   "outputs": [
    {
     "data": {
      "text/plain": [
       "Text(0, 0.5, 'yield')"
      ]
     },
     "execution_count": 50,
     "metadata": {},
     "output_type": "execute_result"
    },
    {
     "data": {
      "image/png": "[encoded data removed]",
      "text/plain": [
       "<Figure size 640x480 with 1 Axes>"
      ]
     },
     "metadata": {},
     "output_type": "display_data"
    }
   ],
   "source": [
    "plt.scatter(X_test,y_test)\n",
    "plt.plot(X_test,y_pred_test,color='red')\n",
    "plt.title('Agricultural Productivity Analysis: Yield in Relation to Area Harvested')\n",
    "plt.xlabel(\"area of harvest\")\n",
    "plt.ylabel(\"yield\")"
   ]
  },
  {
   "cell_type": "code",
   "execution_count": null,
   "id": "faf2a136-8a0c-4e73-be2e-34d3e988c85f",
   "metadata": {},
   "outputs": [],
   "source": []
  },
  {
   "cell_type": "code",
   "execution_count": null,
   "id": "95ab3749-e312-461f-ae0d-849ace91151b",
   "metadata": {},
   "outputs": [],
   "source": []
  }
 ],
 "metadata": {
  "kernelspec": {
   "display_name": "Python 3 (ipykernel)",
   "language": "python",
   "name": "python3"
  },
  "language_info": {
   "codemirror_mode": {
    "name": "ipython",
    "version": 3
   },
   "file_extension": ".py",
   "mimetype": "text/x-python",
   "name": "python",
   "nbconvert_exporter": "python",
   "pygments_lexer": "ipython3",
   "version": "3.11.5"
  }
 },
 "nbformat": 4,
 "nbformat_minor": 5
}
